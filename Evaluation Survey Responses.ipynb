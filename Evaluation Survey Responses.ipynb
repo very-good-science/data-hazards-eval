{
 "cells": [
  {
   "cell_type": "markdown",
   "id": "e4496233-3544-4977-8514-2d2e026fe7d7",
   "metadata": {},
   "source": [
    "# Evaluation Survey Responses\n",
    "\n",
    "The full set of survey questions were: \n",
    "\n",
    "- eval-clear - Overall, how clear did you find the concept of the Data Hazards?\n",
    "- eval-easy - How easy was it to apply the Data Hazards to the projects?\n",
    "- eval-hazards-useful - How useful did you think the Data Hazards were for exploring potential downfalls of data science projects?\n",
    "- eval-group-useful - How useful was the reflective group activity for helping to decide on the relevant hazards?\n",
    "\n",
    "For ease of analysis we will use a version of the likert responses that have been turned from words to their corresponding values (`likert-values.txt`), where 1 is the most positive response and 5 is the most negative response."
   ]
  },
  {
   "cell_type": "code",
   "execution_count": 1,
   "id": "626e2f49-1ca2-485d-862a-0dd6064730ff",
   "metadata": {},
   "outputs": [],
   "source": [
    "import pandas as pd\n",
    "import plot_likert  # Plotting library based on matplotlib\n",
    "import matplotlib.pyplot as plt  # We import matplotlib to use the subplots feature\n",
    "from matplotlib import gridspec  # To control the subplot grid"
   ]
  },
  {
   "cell_type": "code",
   "execution_count": 2,
   "id": "71e4172e-c324-498e-9b3f-b6935187fa23",
   "metadata": {},
   "outputs": [],
   "source": [
    "# Read data (note, not UTF8 encoded)\n",
    "\n",
    "data = pd.read_csv('likert-values.txt', sep='\\t', encoding = \"ISO-8859-1\")"
   ]
  },
  {
   "cell_type": "code",
   "execution_count": 3,
   "id": "08a5cbba-8e99-4d83-aef4-8e61a8b4cc52",
   "metadata": {},
   "outputs": [
    {
     "data": {
      "text/html": [
       "<div>\n",
       "<style scoped>\n",
       "    .dataframe tbody tr th:only-of-type {\n",
       "        vertical-align: middle;\n",
       "    }\n",
       "\n",
       "    .dataframe tbody tr th {\n",
       "        vertical-align: top;\n",
       "    }\n",
       "\n",
       "    .dataframe thead th {\n",
       "        text-align: right;\n",
       "    }\n",
       "</style>\n",
       "<table border=\"1\" class=\"dataframe\">\n",
       "  <thead>\n",
       "    <tr style=\"text-align: right;\">\n",
       "      <th></th>\n",
       "      <th>eval-clear</th>\n",
       "      <th>eval-easy</th>\n",
       "      <th>eval-hazards-useful</th>\n",
       "      <th>eval-group-useful</th>\n",
       "      <th>eval-learned</th>\n",
       "    </tr>\n",
       "  </thead>\n",
       "  <tbody>\n",
       "    <tr>\n",
       "      <th>0</th>\n",
       "      <td>1.0</td>\n",
       "      <td>1.0</td>\n",
       "      <td>1.0</td>\n",
       "      <td>1.0</td>\n",
       "      <td>1.0</td>\n",
       "    </tr>\n",
       "    <tr>\n",
       "      <th>1</th>\n",
       "      <td>1.0</td>\n",
       "      <td>2.0</td>\n",
       "      <td>2.0</td>\n",
       "      <td>2.0</td>\n",
       "      <td>2.0</td>\n",
       "    </tr>\n",
       "    <tr>\n",
       "      <th>2</th>\n",
       "      <td>1.0</td>\n",
       "      <td>1.0</td>\n",
       "      <td>1.0</td>\n",
       "      <td>2.0</td>\n",
       "      <td>1.0</td>\n",
       "    </tr>\n",
       "    <tr>\n",
       "      <th>3</th>\n",
       "      <td>2.0</td>\n",
       "      <td>1.0</td>\n",
       "      <td>1.0</td>\n",
       "      <td>2.0</td>\n",
       "      <td>1.0</td>\n",
       "    </tr>\n",
       "    <tr>\n",
       "      <th>4</th>\n",
       "      <td>1.0</td>\n",
       "      <td>2.0</td>\n",
       "      <td>1.0</td>\n",
       "      <td>2.0</td>\n",
       "      <td>1.0</td>\n",
       "    </tr>\n",
       "  </tbody>\n",
       "</table>\n",
       "</div>"
      ],
      "text/plain": [
       "   eval-clear  eval-easy  eval-hazards-useful  eval-group-useful  eval-learned\n",
       "0         1.0        1.0                  1.0                1.0           1.0\n",
       "1         1.0        2.0                  2.0                2.0           2.0\n",
       "2         1.0        1.0                  1.0                2.0           1.0\n",
       "3         2.0        1.0                  1.0                2.0           1.0\n",
       "4         1.0        2.0                  1.0                2.0           1.0"
      ]
     },
     "execution_count": 3,
     "metadata": {},
     "output_type": "execute_result"
    }
   ],
   "source": [
    "data.head()"
   ]
  },
  {
   "cell_type": "code",
   "execution_count": 4,
   "id": "4e524f9f-3c40-4b04-b336-59d25958495f",
   "metadata": {},
   "outputs": [],
   "source": [
    "# Drop those NA rows\n",
    "\n",
    "data = data.dropna()"
   ]
  },
  {
   "cell_type": "code",
   "execution_count": 5,
   "id": "bc542094",
   "metadata": {},
   "outputs": [],
   "source": [
    "# Change floats to ints (for plot_likert package)\n",
    "\n",
    "data = data.astype(int)\n",
    "data = data.astype(str)"
   ]
  },
  {
   "cell_type": "code",
   "execution_count": 6,
   "id": "b704358c",
   "metadata": {},
   "outputs": [
    {
     "data": {
      "text/html": [
       "<div>\n",
       "<style scoped>\n",
       "    .dataframe tbody tr th:only-of-type {\n",
       "        vertical-align: middle;\n",
       "    }\n",
       "\n",
       "    .dataframe tbody tr th {\n",
       "        vertical-align: top;\n",
       "    }\n",
       "\n",
       "    .dataframe thead th {\n",
       "        text-align: right;\n",
       "    }\n",
       "</style>\n",
       "<table border=\"1\" class=\"dataframe\">\n",
       "  <thead>\n",
       "    <tr style=\"text-align: right;\">\n",
       "      <th></th>\n",
       "      <th>eval-clear</th>\n",
       "      <th>eval-easy</th>\n",
       "      <th>eval-hazards-useful</th>\n",
       "      <th>eval-group-useful</th>\n",
       "      <th>eval-learned</th>\n",
       "    </tr>\n",
       "  </thead>\n",
       "  <tbody>\n",
       "    <tr>\n",
       "      <th>0</th>\n",
       "      <td>1</td>\n",
       "      <td>1</td>\n",
       "      <td>1</td>\n",
       "      <td>1</td>\n",
       "      <td>1</td>\n",
       "    </tr>\n",
       "    <tr>\n",
       "      <th>1</th>\n",
       "      <td>1</td>\n",
       "      <td>2</td>\n",
       "      <td>2</td>\n",
       "      <td>2</td>\n",
       "      <td>2</td>\n",
       "    </tr>\n",
       "    <tr>\n",
       "      <th>2</th>\n",
       "      <td>1</td>\n",
       "      <td>1</td>\n",
       "      <td>1</td>\n",
       "      <td>2</td>\n",
       "      <td>1</td>\n",
       "    </tr>\n",
       "    <tr>\n",
       "      <th>3</th>\n",
       "      <td>2</td>\n",
       "      <td>1</td>\n",
       "      <td>1</td>\n",
       "      <td>2</td>\n",
       "      <td>1</td>\n",
       "    </tr>\n",
       "    <tr>\n",
       "      <th>4</th>\n",
       "      <td>1</td>\n",
       "      <td>2</td>\n",
       "      <td>1</td>\n",
       "      <td>2</td>\n",
       "      <td>1</td>\n",
       "    </tr>\n",
       "  </tbody>\n",
       "</table>\n",
       "</div>"
      ],
      "text/plain": [
       "  eval-clear eval-easy eval-hazards-useful eval-group-useful eval-learned\n",
       "0          1         1                   1                 1            1\n",
       "1          1         2                   2                 2            2\n",
       "2          1         1                   1                 2            1\n",
       "3          2         1                   1                 2            1\n",
       "4          1         2                   1                 2            1"
      ]
     },
     "execution_count": 6,
     "metadata": {},
     "output_type": "execute_result"
    }
   ],
   "source": [
    "data.head()"
   ]
  },
  {
   "cell_type": "code",
   "execution_count": 7,
   "id": "9cb924ca-d097-4ec5-88ba-34779de87026",
   "metadata": {},
   "outputs": [
    {
     "data": {
      "text/html": [
       "<div>\n",
       "<style scoped>\n",
       "    .dataframe tbody tr th:only-of-type {\n",
       "        vertical-align: middle;\n",
       "    }\n",
       "\n",
       "    .dataframe tbody tr th {\n",
       "        vertical-align: top;\n",
       "    }\n",
       "\n",
       "    .dataframe thead th {\n",
       "        text-align: right;\n",
       "    }\n",
       "</style>\n",
       "<table border=\"1\" class=\"dataframe\">\n",
       "  <thead>\n",
       "    <tr style=\"text-align: right;\">\n",
       "      <th></th>\n",
       "      <th>eval-clear</th>\n",
       "      <th>eval-easy</th>\n",
       "      <th>eval-hazards-useful</th>\n",
       "      <th>eval-group-useful</th>\n",
       "      <th>eval-learned</th>\n",
       "    </tr>\n",
       "  </thead>\n",
       "  <tbody>\n",
       "    <tr>\n",
       "      <th>count</th>\n",
       "      <td>41</td>\n",
       "      <td>41</td>\n",
       "      <td>41</td>\n",
       "      <td>41</td>\n",
       "      <td>41</td>\n",
       "    </tr>\n",
       "    <tr>\n",
       "      <th>unique</th>\n",
       "      <td>3</td>\n",
       "      <td>4</td>\n",
       "      <td>3</td>\n",
       "      <td>3</td>\n",
       "      <td>3</td>\n",
       "    </tr>\n",
       "    <tr>\n",
       "      <th>top</th>\n",
       "      <td>1</td>\n",
       "      <td>2</td>\n",
       "      <td>1</td>\n",
       "      <td>1</td>\n",
       "      <td>1</td>\n",
       "    </tr>\n",
       "    <tr>\n",
       "      <th>freq</th>\n",
       "      <td>21</td>\n",
       "      <td>19</td>\n",
       "      <td>24</td>\n",
       "      <td>22</td>\n",
       "      <td>25</td>\n",
       "    </tr>\n",
       "  </tbody>\n",
       "</table>\n",
       "</div>"
      ],
      "text/plain": [
       "       eval-clear eval-easy eval-hazards-useful eval-group-useful eval-learned\n",
       "count          41        41                  41                41           41\n",
       "unique          3         4                   3                 3            3\n",
       "top             1         2                   1                 1            1\n",
       "freq           21        19                  24                22           25"
      ]
     },
     "execution_count": 7,
     "metadata": {},
     "output_type": "execute_result"
    }
   ],
   "source": [
    "# Brief overview of the data\n",
    "\n",
    "data.describe()"
   ]
  },
  {
   "cell_type": "code",
   "execution_count": 8,
   "id": "c37d88f3",
   "metadata": {},
   "outputs": [],
   "source": [
    "# We're going to re-code eval-learned from 1,2,3 to 1,3,5 so that it can be plotted with the other questions. \n",
    "\n",
    "data = data.replace({'eval-learned': {'3': '5', '2': '3'}})"
   ]
  },
  {
   "cell_type": "code",
   "execution_count": 9,
   "id": "c26b9a61",
   "metadata": {},
   "outputs": [],
   "source": [
    "# Set up custom colours using PiYGn (https://colorbrewer2.org/#type=diverging&scheme=PiYG&n=5)\n",
    "\n",
    "customcolours5 = ['#ffffff00', '#4dac26', '#b8e186', 'silver', '#f1b6da', '#d01c8b']"
   ]
  },
  {
   "cell_type": "code",
   "execution_count": 10,
   "id": "ca43af35",
   "metadata": {
    "scrolled": true
   },
   "outputs": [
    {
     "name": "stderr",
     "output_type": "stream",
     "text": [
      "/Users/ff18302/opt/anaconda3/envs/datahazardsanalysis/lib/python3.11/site-packages/plot_likert/plot_likert.py:251: FutureWarning: DataFrame.set_axis 'inplace' keyword is deprecated and will be removed in a future version. Use `obj = obj.set_axis(..., copy=False)` instead\n",
      "  df = df.set_axis(new_labels, axis=1, inplace=False)\n"
     ]
    },
    {
     "data": {
      "text/plain": [
       "[Text(0, 0, 'Learned from the group discussion'),\n",
       " Text(0, 1, 'Reflective group activity is useful'),\n",
       " Text(0, 2, 'Hazards are useful'),\n",
       " Text(0, 3, 'Hazards are easy to apply'),\n",
       " Text(0, 4, 'Concept is clear')]"
      ]
     },
     "execution_count": 10,
     "metadata": {},
     "output_type": "execute_result"
    },
    {
     "data": {
      "image/png": "[encoded data removed]",
      "text/plain": [
       "<Figure size 800x400 with 1 Axes>"
      ]
     },
     "metadata": {},
     "output_type": "display_data"
    }
   ],
   "source": [
    "# Make the figure for the four questions that had five response options. \n",
    "\n",
    "plt = plot_likert.plot_likert(\n",
    "    data, \n",
    "    plot_likert.scales.raw5, # Default scale is 1-5\n",
    "    plot_percentage=True,\n",
    "    bar_labels=True,\n",
    "    colors=customcolours5,\n",
    "    figsize=(8,4))\n",
    "\n",
    "plt.set_yticklabels([\"Learned from the group discussion\",\n",
    "                    \"Reflective group activity is useful\",\n",
    "                     \"Hazards are useful\",\n",
    "                     \"Hazards are easy to apply\",\n",
    "                     \"Concept is clear\"])"
   ]
  },
  {
   "cell_type": "code",
   "execution_count": 12,
   "id": "1c81be48",
   "metadata": {
    "scrolled": true
   },
   "outputs": [],
   "source": [
    "# Save the image out\n",
    "\n",
    "plt.figure.savefig('survey_results.pdf', dpi=330, bbox_inches='tight')"
   ]
  },
  {
   "cell_type": "code",
   "execution_count": null,
   "id": "6464cb85",
   "metadata": {},
   "outputs": [],
   "source": []
  }
 ],
 "metadata": {
  "jupytext": {
   "formats": "ipynb,md:myst"
  },
  "kernelspec": {
   "display_name": "Python [conda env:datahazardsanalysis]",
   "language": "python",
   "name": "conda-env-datahazardsanalysis-py"
  },
  "language_info": {
   "codemirror_mode": {
    "name": "ipython",
    "version": 3
   },
   "file_extension": ".py",
   "mimetype": "text/x-python",
   "name": "python",
   "nbconvert_exporter": "python",
   "pygments_lexer": "ipython3",
   "version": "3.11.0"
  }
 },
 "nbformat": 4,
 "nbformat_minor": 5
}
