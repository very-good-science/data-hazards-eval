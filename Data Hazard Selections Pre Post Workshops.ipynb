{
 "cells": [
  {
   "cell_type": "markdown",
   "id": "ad7ef130",
   "metadata": {},
   "source": [
    "# Data Hazard Selections\n",
    "\n",
    "Participants selected the Hazards they thought applied before and after the workshop discussions. Here we are assessing how this changed between the two timepoints. "
   ]
  },
  {
   "cell_type": "code",
   "execution_count": null,
   "id": "c1fe0475",
   "metadata": {},
   "outputs": [],
   "source": [
    "import pandas as pd"
   ]
  },
  {
   "cell_type": "code",
   "execution_count": 2,
   "id": "0c81e0c0",
   "metadata": {},
   "outputs": [],
   "source": [
    "data = pd.read_excel(\"DataHazards_WorkshopData.xlsx\")"
   ]
  },
  {
   "cell_type": "code",
   "execution_count": 3,
   "id": "eada23f8",
   "metadata": {},
   "outputs": [
    {
     "data": {
      "text/html": [
       "<div>\n",
       "<style scoped>\n",
       "    .dataframe tbody tr th:only-of-type {\n",
       "        vertical-align: middle;\n",
       "    }\n",
       "\n",
       "    .dataframe tbody tr th {\n",
       "        vertical-align: top;\n",
       "    }\n",
       "\n",
       "    .dataframe thead th {\n",
       "        text-align: right;\n",
       "    }\n",
       "</style>\n",
       "<table border=\"1\" class=\"dataframe\">\n",
       "  <thead>\n",
       "    <tr style=\"text-align: right;\">\n",
       "      <th></th>\n",
       "      <th>event</th>\n",
       "      <th>participant-work</th>\n",
       "      <th>participant-field</th>\n",
       "      <th>participant-type</th>\n",
       "      <th>project</th>\n",
       "      <th>Pre_AutoDecision</th>\n",
       "      <th>Pre_ClassifiesRanks</th>\n",
       "      <th>Pre_LacksCommunity</th>\n",
       "      <th>Pre_DifficultUnderstand</th>\n",
       "      <th>Pre_DirectHarm</th>\n",
       "      <th>...</th>\n",
       "      <th>Post_High environmental cost</th>\n",
       "      <th>Post_InformedConsent</th>\n",
       "      <th>Post_Misuse</th>\n",
       "      <th>Post_Privacy</th>\n",
       "      <th>Post_ReinforcesBiases</th>\n",
       "      <th>eval-clear</th>\n",
       "      <th>eval-easy</th>\n",
       "      <th>eval-hazards-useful</th>\n",
       "      <th>eval-group-useful</th>\n",
       "      <th>eval-learned</th>\n",
       "    </tr>\n",
       "  </thead>\n",
       "  <tbody>\n",
       "    <tr>\n",
       "      <th>0</th>\n",
       "      <td>sept-21</td>\n",
       "      <td>Higher Education</td>\n",
       "      <td>Engineering</td>\n",
       "      <td>Audience member</td>\n",
       "      <td>Project 1</td>\n",
       "      <td>1.0</td>\n",
       "      <td>1.0</td>\n",
       "      <td>0.0</td>\n",
       "      <td>0.0</td>\n",
       "      <td>0.0</td>\n",
       "      <td>...</td>\n",
       "      <td>1.0</td>\n",
       "      <td>0.0</td>\n",
       "      <td>1.0</td>\n",
       "      <td>1.0</td>\n",
       "      <td>1.0</td>\n",
       "      <td>Very clear</td>\n",
       "      <td>Very easy</td>\n",
       "      <td>Very useful</td>\n",
       "      <td>Very useful</td>\n",
       "      <td>Very much</td>\n",
       "    </tr>\n",
       "    <tr>\n",
       "      <th>1</th>\n",
       "      <td>sept-21</td>\n",
       "      <td>Higher Education</td>\n",
       "      <td>Science,Health Sciences,Life Sciences</td>\n",
       "      <td>Project owner (presenting a project)</td>\n",
       "      <td>Project 1</td>\n",
       "      <td>0.0</td>\n",
       "      <td>1.0</td>\n",
       "      <td>0.0</td>\n",
       "      <td>0.0</td>\n",
       "      <td>0.0</td>\n",
       "      <td>...</td>\n",
       "      <td>0.0</td>\n",
       "      <td>0.0</td>\n",
       "      <td>1.0</td>\n",
       "      <td>1.0</td>\n",
       "      <td>1.0</td>\n",
       "      <td>Very clear</td>\n",
       "      <td>Somewhat easy</td>\n",
       "      <td>Somewhat useful</td>\n",
       "      <td>Somewhat useful</td>\n",
       "      <td>Somewhat</td>\n",
       "    </tr>\n",
       "    <tr>\n",
       "      <th>2</th>\n",
       "      <td>sept-21</td>\n",
       "      <td>Higher Education,Private/Public Sector,Data Sc...</td>\n",
       "      <td>Mathematics,Health Sciences</td>\n",
       "      <td>Audience member</td>\n",
       "      <td>Project 1</td>\n",
       "      <td>1.0</td>\n",
       "      <td>1.0</td>\n",
       "      <td>1.0</td>\n",
       "      <td>1.0</td>\n",
       "      <td>1.0</td>\n",
       "      <td>...</td>\n",
       "      <td>0.0</td>\n",
       "      <td>1.0</td>\n",
       "      <td>1.0</td>\n",
       "      <td>1.0</td>\n",
       "      <td>1.0</td>\n",
       "      <td>Very clear</td>\n",
       "      <td>Very easy</td>\n",
       "      <td>Very useful</td>\n",
       "      <td>Somewhat useful</td>\n",
       "      <td>Very much</td>\n",
       "    </tr>\n",
       "    <tr>\n",
       "      <th>3</th>\n",
       "      <td>sept-21</td>\n",
       "      <td>Higher Education</td>\n",
       "      <td>Ethicist</td>\n",
       "      <td>Audience member</td>\n",
       "      <td>Project 1</td>\n",
       "      <td>0.0</td>\n",
       "      <td>1.0</td>\n",
       "      <td>1.0</td>\n",
       "      <td>1.0</td>\n",
       "      <td>0.0</td>\n",
       "      <td>...</td>\n",
       "      <td>0.0</td>\n",
       "      <td>1.0</td>\n",
       "      <td>1.0</td>\n",
       "      <td>1.0</td>\n",
       "      <td>0.0</td>\n",
       "      <td>Somewhat clear</td>\n",
       "      <td>Very easy</td>\n",
       "      <td>Very useful</td>\n",
       "      <td>Somewhat useful</td>\n",
       "      <td>Very much</td>\n",
       "    </tr>\n",
       "    <tr>\n",
       "      <th>4</th>\n",
       "      <td>sept-21</td>\n",
       "      <td>Higher Education</td>\n",
       "      <td>Engineering</td>\n",
       "      <td>Audience member</td>\n",
       "      <td>Project 1</td>\n",
       "      <td>1.0</td>\n",
       "      <td>1.0</td>\n",
       "      <td>0.0</td>\n",
       "      <td>1.0</td>\n",
       "      <td>1.0</td>\n",
       "      <td>...</td>\n",
       "      <td>0.0</td>\n",
       "      <td>0.0</td>\n",
       "      <td>1.0</td>\n",
       "      <td>1.0</td>\n",
       "      <td>1.0</td>\n",
       "      <td>Very clear</td>\n",
       "      <td>Somewhat easy</td>\n",
       "      <td>Very useful</td>\n",
       "      <td>Somewhat useful</td>\n",
       "      <td>Very much</td>\n",
       "    </tr>\n",
       "  </tbody>\n",
       "</table>\n",
       "<p>5 rows × 32 columns</p>\n",
       "</div>"
      ],
      "text/plain": [
       "     event                                   participant-work  \\\n",
       "0  sept-21                                   Higher Education   \n",
       "1  sept-21                                   Higher Education   \n",
       "2  sept-21  Higher Education,Private/Public Sector,Data Sc...   \n",
       "3  sept-21                                   Higher Education   \n",
       "4  sept-21                                   Higher Education   \n",
       "\n",
       "                       participant-field  \\\n",
       "0                            Engineering   \n",
       "1  Science,Health Sciences,Life Sciences   \n",
       "2            Mathematics,Health Sciences   \n",
       "3                               Ethicist   \n",
       "4                            Engineering   \n",
       "\n",
       "                       participant-type    project  Pre_AutoDecision  \\\n",
       "0                       Audience member  Project 1               1.0   \n",
       "1  Project owner (presenting a project)  Project 1               0.0   \n",
       "2                       Audience member  Project 1               1.0   \n",
       "3                       Audience member  Project 1               0.0   \n",
       "4                       Audience member  Project 1               1.0   \n",
       "\n",
       "   Pre_ClassifiesRanks  Pre_LacksCommunity  Pre_DifficultUnderstand  \\\n",
       "0                  1.0                 0.0                      0.0   \n",
       "1                  1.0                 0.0                      0.0   \n",
       "2                  1.0                 1.0                      1.0   \n",
       "3                  1.0                 1.0                      1.0   \n",
       "4                  1.0                 0.0                      1.0   \n",
       "\n",
       "   Pre_DirectHarm  ...  Post_High environmental cost  Post_InformedConsent  \\\n",
       "0             0.0  ...                           1.0                   0.0   \n",
       "1             0.0  ...                           0.0                   0.0   \n",
       "2             1.0  ...                           0.0                   1.0   \n",
       "3             0.0  ...                           0.0                   1.0   \n",
       "4             1.0  ...                           0.0                   0.0   \n",
       "\n",
       "   Post_Misuse  Post_Privacy  Post_ReinforcesBiases      eval-clear  \\\n",
       "0          1.0           1.0                    1.0      Very clear   \n",
       "1          1.0           1.0                    1.0      Very clear   \n",
       "2          1.0           1.0                    1.0      Very clear   \n",
       "3          1.0           1.0                    0.0  Somewhat clear   \n",
       "4          1.0           1.0                    1.0      Very clear   \n",
       "\n",
       "       eval-easy  eval-hazards-useful  eval-group-useful  eval-learned  \n",
       "0      Very easy          Very useful        Very useful     Very much  \n",
       "1  Somewhat easy      Somewhat useful    Somewhat useful      Somewhat  \n",
       "2      Very easy          Very useful    Somewhat useful     Very much  \n",
       "3      Very easy          Very useful    Somewhat useful     Very much  \n",
       "4  Somewhat easy          Very useful    Somewhat useful     Very much  \n",
       "\n",
       "[5 rows x 32 columns]"
      ]
     },
     "execution_count": 3,
     "metadata": {},
     "output_type": "execute_result"
    }
   ],
   "source": [
    "data.head()"
   ]
  },
  {
   "cell_type": "code",
   "execution_count": 4,
   "id": "2b94d967",
   "metadata": {},
   "outputs": [],
   "source": [
    "pre = data.filter(regex='Pre_')\n",
    "post = data.filter(regex='Post_')"
   ]
  },
  {
   "cell_type": "code",
   "execution_count": 5,
   "id": "b366bf7d",
   "metadata": {},
   "outputs": [],
   "source": [
    "# Create a column counting the before and after for both. Must have all valid values to be counted.\n",
    "data['Pre_Count'] = pre.sum(axis=1, min_count=11)\n",
    "data['Post_Count'] = post.sum(axis=1, min_count=11)"
   ]
  },
  {
   "cell_type": "code",
   "execution_count": 6,
   "id": "46020d93",
   "metadata": {},
   "outputs": [],
   "source": [
    "# Subset relevant columns and only rows with no missing data\n",
    "counts = data[['participant-type', 'project', 'Pre_Count', 'Post_Count']]\n",
    "# Subset for only audience members\n",
    "counts = counts.loc[counts['participant-type'] == \"Audience member\"]\n",
    "# Only keep rows with no missing data\n",
    "counts = counts.dropna()"
   ]
  },
  {
   "cell_type": "markdown",
   "id": "d923d94f",
   "metadata": {},
   "source": [
    "## Describing the difference in choices by project"
   ]
  },
  {
   "cell_type": "code",
   "execution_count": 7,
   "id": "407043aa",
   "metadata": {},
   "outputs": [
    {
     "name": "stderr",
     "output_type": "stream",
     "text": [
      "/var/folders/tx/67h5cbx52_3djdg95lvy51fm0000gq/T/ipykernel_68983/1783414304.py:1: FutureWarning: Indexing with multiple keys (implicitly converted to a tuple of keys) will be deprecated, use a list instead.\n",
      "  counts.groupby('project')['Pre_Count', 'Post_Count'].mean()\n"
     ]
    },
    {
     "data": {
      "text/html": [
       "<div>\n",
       "<style scoped>\n",
       "    .dataframe tbody tr th:only-of-type {\n",
       "        vertical-align: middle;\n",
       "    }\n",
       "\n",
       "    .dataframe tbody tr th {\n",
       "        vertical-align: top;\n",
       "    }\n",
       "\n",
       "    .dataframe thead th {\n",
       "        text-align: right;\n",
       "    }\n",
       "</style>\n",
       "<table border=\"1\" class=\"dataframe\">\n",
       "  <thead>\n",
       "    <tr style=\"text-align: right;\">\n",
       "      <th></th>\n",
       "      <th>Pre_Count</th>\n",
       "      <th>Post_Count</th>\n",
       "    </tr>\n",
       "    <tr>\n",
       "      <th>project</th>\n",
       "      <th></th>\n",
       "      <th></th>\n",
       "    </tr>\n",
       "  </thead>\n",
       "  <tbody>\n",
       "    <tr>\n",
       "      <th>Project 1</th>\n",
       "      <td>6.500000</td>\n",
       "      <td>7.666667</td>\n",
       "    </tr>\n",
       "    <tr>\n",
       "      <th>Project 2</th>\n",
       "      <td>5.200000</td>\n",
       "      <td>6.000000</td>\n",
       "    </tr>\n",
       "    <tr>\n",
       "      <th>Project 3</th>\n",
       "      <td>5.200000</td>\n",
       "      <td>5.800000</td>\n",
       "    </tr>\n",
       "    <tr>\n",
       "      <th>Project 4</th>\n",
       "      <td>4.866667</td>\n",
       "      <td>5.266667</td>\n",
       "    </tr>\n",
       "    <tr>\n",
       "      <th>Project 5</th>\n",
       "      <td>7.400000</td>\n",
       "      <td>6.800000</td>\n",
       "    </tr>\n",
       "  </tbody>\n",
       "</table>\n",
       "</div>"
      ],
      "text/plain": [
       "           Pre_Count  Post_Count\n",
       "project                         \n",
       "Project 1   6.500000    7.666667\n",
       "Project 2   5.200000    6.000000\n",
       "Project 3   5.200000    5.800000\n",
       "Project 4   4.866667    5.266667\n",
       "Project 5   7.400000    6.800000"
      ]
     },
     "execution_count": 7,
     "metadata": {},
     "output_type": "execute_result"
    }
   ],
   "source": [
    "counts.groupby('project')['Pre_Count', 'Post_Count'].mean()"
   ]
  },
  {
   "cell_type": "code",
   "execution_count": 8,
   "id": "f76fe40e",
   "metadata": {},
   "outputs": [
    {
     "data": {
      "text/html": [
       "<div>\n",
       "<style scoped>\n",
       "    .dataframe tbody tr th:only-of-type {\n",
       "        vertical-align: middle;\n",
       "    }\n",
       "\n",
       "    .dataframe tbody tr th {\n",
       "        vertical-align: top;\n",
       "    }\n",
       "\n",
       "    .dataframe thead th {\n",
       "        text-align: right;\n",
       "    }\n",
       "</style>\n",
       "<table border=\"1\" class=\"dataframe\">\n",
       "  <thead>\n",
       "    <tr style=\"text-align: right;\">\n",
       "      <th></th>\n",
       "      <th>participant-type</th>\n",
       "      <th>Pre_Count</th>\n",
       "      <th>Post_Count</th>\n",
       "    </tr>\n",
       "    <tr>\n",
       "      <th>project</th>\n",
       "      <th></th>\n",
       "      <th></th>\n",
       "      <th></th>\n",
       "    </tr>\n",
       "  </thead>\n",
       "  <tbody>\n",
       "    <tr>\n",
       "      <th>Project 1</th>\n",
       "      <td>6</td>\n",
       "      <td>6</td>\n",
       "      <td>6</td>\n",
       "    </tr>\n",
       "    <tr>\n",
       "      <th>Project 2</th>\n",
       "      <td>5</td>\n",
       "      <td>5</td>\n",
       "      <td>5</td>\n",
       "    </tr>\n",
       "    <tr>\n",
       "      <th>Project 3</th>\n",
       "      <td>5</td>\n",
       "      <td>5</td>\n",
       "      <td>5</td>\n",
       "    </tr>\n",
       "    <tr>\n",
       "      <th>Project 4</th>\n",
       "      <td>15</td>\n",
       "      <td>15</td>\n",
       "      <td>15</td>\n",
       "    </tr>\n",
       "    <tr>\n",
       "      <th>Project 5</th>\n",
       "      <td>5</td>\n",
       "      <td>5</td>\n",
       "      <td>5</td>\n",
       "    </tr>\n",
       "  </tbody>\n",
       "</table>\n",
       "</div>"
      ],
      "text/plain": [
       "           participant-type  Pre_Count  Post_Count\n",
       "project                                           \n",
       "Project 1                 6          6           6\n",
       "Project 2                 5          5           5\n",
       "Project 3                 5          5           5\n",
       "Project 4                15         15          15\n",
       "Project 5                 5          5           5"
      ]
     },
     "execution_count": 8,
     "metadata": {},
     "output_type": "execute_result"
    }
   ],
   "source": [
    "# Counts of participants in each group\n",
    "counts.groupby('project').count()"
   ]
  },
  {
   "cell_type": "code",
   "execution_count": 9,
   "id": "2deb0f1a",
   "metadata": {},
   "outputs": [
    {
     "data": {
      "text/plain": [
       "36"
      ]
     },
     "execution_count": 9,
     "metadata": {},
     "output_type": "execute_result"
    }
   ],
   "source": [
    "# Number of observations included total\n",
    "len(counts)"
   ]
  },
  {
   "cell_type": "code",
   "execution_count": 10,
   "id": "b8033c82",
   "metadata": {},
   "outputs": [
    {
     "data": {
      "text/plain": [
       "5.583333333333333"
      ]
     },
     "execution_count": 10,
     "metadata": {},
     "output_type": "execute_result"
    }
   ],
   "source": [
    "# Mean number of Hazards before\n",
    "counts['Pre_Count'].mean()"
   ]
  },
  {
   "cell_type": "code",
   "execution_count": 11,
   "id": "3d8c4bd5",
   "metadata": {},
   "outputs": [
    {
     "data": {
      "text/plain": [
       "6.055555555555555"
      ]
     },
     "execution_count": 11,
     "metadata": {},
     "output_type": "execute_result"
    }
   ],
   "source": [
    "# Mean number of Hazards after\n",
    "counts['Post_Count'].mean()"
   ]
  },
  {
   "cell_type": "markdown",
   "id": "f2dfde63",
   "metadata": {},
   "source": [
    "## Formally testing the difference"
   ]
  },
  {
   "cell_type": "markdown",
   "id": "01fa2c6d",
   "metadata": {},
   "source": [
    "Using a one tailed paired students t-test. "
   ]
  },
  {
   "cell_type": "code",
   "execution_count": 12,
   "id": "cf0ebd07",
   "metadata": {},
   "outputs": [],
   "source": [
    "from scipy import stats\n",
    "import matplotlib.pyplot as plt"
   ]
  },
  {
   "cell_type": "markdown",
   "id": "b8147e00",
   "metadata": {},
   "source": [
    "First just do a quick visual check of the distributions. The sample is small (36) so we're not expecting there to be a perfectly normal distribution."
   ]
  },
  {
   "cell_type": "code",
   "execution_count": 13,
   "id": "03873d96",
   "metadata": {},
   "outputs": [
    {
     "data": {
      "text/plain": [
       "(array([1., 6., 6., 5., 0., 5., 6., 5., 0., 2.]),\n",
       " array([ 2. ,  2.8,  3.6,  4.4,  5.2,  6. ,  6.8,  7.6,  8.4,  9.2, 10. ]),\n",
       " <BarContainer object of 10 artists>)"
      ]
     },
     "execution_count": 13,
     "metadata": {},
     "output_type": "execute_result"
    },
    {
     "data": {
      "image/png": "[encoded data removed]",
      "text/plain": [
       "<Figure size 432x288 with 1 Axes>"
      ]
     },
     "metadata": {
      "needs_background": "light"
     },
     "output_type": "display_data"
    }
   ],
   "source": [
    "plt.hist(counts['Pre_Count'])"
   ]
  },
  {
   "cell_type": "code",
   "execution_count": 14,
   "id": "e3daf6c5",
   "metadata": {},
   "outputs": [
    {
     "data": {
      "text/plain": [
       "(array([1., 1., 1., 8., 4., 4., 8., 5., 1., 3.]),\n",
       " array([ 0. ,  1.1,  2.2,  3.3,  4.4,  5.5,  6.6,  7.7,  8.8,  9.9, 11. ]),\n",
       " <BarContainer object of 10 artists>)"
      ]
     },
     "execution_count": 14,
     "metadata": {},
     "output_type": "execute_result"
    },
    {
     "data": {
      "image/png": "[encoded data removed]",
      "text/plain": [
       "<Figure size 432x288 with 1 Axes>"
      ]
     },
     "metadata": {
      "needs_background": "light"
     },
     "output_type": "display_data"
    }
   ],
   "source": [
    "plt.hist(counts['Post_Count'])"
   ]
  },
  {
   "cell_type": "code",
   "execution_count": 15,
   "id": "891025b1",
   "metadata": {},
   "outputs": [
    {
     "data": {
      "text/plain": [
       "Ttest_relResult(statistic=-1.3921604610050047, pvalue=0.08632855072434303)"
      ]
     },
     "execution_count": 15,
     "metadata": {},
     "output_type": "execute_result"
    }
   ],
   "source": [
    "# Run the ttest - specify alternative hypothesis that the mean of pre is less than the mean of post \n",
    "stats.ttest_rel(counts['Pre_Count'], counts['Post_Count'], alternative = 'less')"
   ]
  }
 ],
 "metadata": {
  "kernelspec": {
   "display_name": "dh-analysis",
   "language": "python",
   "name": "dh-analysis"
  },
  "language_info": {
   "codemirror_mode": {
    "name": "ipython",
    "version": 3
   },
   "file_extension": ".py",
   "mimetype": "text/x-python",
   "name": "python",
   "nbconvert_exporter": "python",
   "pygments_lexer": "ipython3",
   "version": "3.9.12"
  }
 },
 "nbformat": 4,
 "nbformat_minor": 5
}
